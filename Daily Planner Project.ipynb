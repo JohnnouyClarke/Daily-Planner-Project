{
 "cells": [
  {
   "cell_type": "code",
   "execution_count": 1,
   "id": "d5d23738-469f-4b48-a03a-ce54b71d6350",
   "metadata": {},
   "outputs": [
    {
     "name": "stdout",
     "output_type": "stream",
     "text": [
      "Welcome to the Randomized Daily Scheduler!\n",
      "Enter your tasks. Type 'done' when finished.\n"
     ]
    },
    {
     "name": "stdin",
     "output_type": "stream",
     "text": [
      "Enter the task name (or 'done' to finish):  dishes\n",
      "Enter the task name (or 'done' to finish):  read new books\n",
      "Enter the task name (or 'done' to finish):  portfolio\n",
      "Enter the task name (or 'done' to finish):  google ads\n",
      "Enter the task name (or 'done' to finish):  website\n",
      "Enter the task name (or 'done' to finish):  bathe my son\n",
      "Enter the task name (or 'done' to finish):  dinner\n",
      "Enter the task name (or 'done' to finish):  done\n"
     ]
    },
    {
     "name": "stdout",
     "output_type": "stream",
     "text": [
      "\n",
      "Your randomized schedule for today:\n",
      "1. dishes - 09:00 AM - 10:51 AM\n",
      "2. website - 10:51 AM - 11:34 AM\n",
      "3. read new books - 11:34 AM - 12:17 PM\n",
      "4. dinner - 12:17 PM - 02:02 PM\n",
      "5. bathe my son - 02:02 PM - 03:01 PM\n",
      "6. portfolio - 03:01 PM - 04:03 PM\n",
      "7. google ads - 04:03 PM - 05:24 PM\n",
      "\n",
      "Schedule saved to daily_schedule.txt\n"
     ]
    }
   ],
   "source": [
    "# Daily Efficiency Scheduler\n",
    "# This program allows a user to input their tasks, and it will randomly assign durations and order the tasks.\n",
    "# The final schedule will be saved in a text file.\n",
    "\n",
    "import random\n",
    "from datetime import datetime, timedelta\n",
    "\n",
    "# Function to get user input for tasks\n",
    "def get_tasks():\n",
    "    tasks = []\n",
    "    print(\"Enter your tasks. Type 'done' when finished.\")\n",
    "    while True:\n",
    "        task_name = input(\"Enter the task name (or 'done' to finish): \")\n",
    "        if task_name.lower() == 'done':\n",
    "            break\n",
    "        tasks.append(task_name)\n",
    "    return tasks\n",
    "\n",
    "# Function to randomly assign durations to tasks\n",
    "def assign_random_durations(tasks):\n",
    "    return [{'task': task, 'duration': random.randint(30, 120)} for task in tasks]\n",
    "\n",
    "# Function to randomly shuffle task order\n",
    "def shuffle_tasks(tasks):\n",
    "    random.shuffle(tasks)\n",
    "    return tasks\n",
    "\n",
    "# Function to generate time slots for tasks\n",
    "def generate_time_slots(tasks, start_time=\"09:00\"):\n",
    "    schedule = []\n",
    "    current_time = datetime.strptime(start_time, \"%H:%M\")\n",
    "    for task in tasks:\n",
    "        end_time = current_time + timedelta(minutes=task['duration'])\n",
    "        task['time_slot'] = f\"{current_time.strftime('%I:%M %p')} - {end_time.strftime('%I:%M %p')}\"\n",
    "        schedule.append(task)\n",
    "        current_time = end_time\n",
    "    return schedule\n",
    "\n",
    "# Function to save schedule to a text file\n",
    "def save_schedule_to_file(schedule):\n",
    "    filename = \"daily_schedule.txt\"\n",
    "    with open(filename, \"w\") as file:\n",
    "        file.write(\"Your randomized schedule for today:\\n\")\n",
    "        for idx, task in enumerate(schedule, start=1):\n",
    "            file.write(f\"{idx}. {task['task']} - {task['time_slot']}\\n\")\n",
    "    print(f\"\\nSchedule saved to {filename}\")\n",
    "\n",
    "# Main function to run the scheduler\n",
    "def main():\n",
    "    print(\"Welcome to the Randomized Daily Scheduler!\")\n",
    "    tasks = get_tasks()\n",
    "    tasks_with_durations = assign_random_durations(tasks)\n",
    "    shuffled_tasks = shuffle_tasks(tasks_with_durations)\n",
    "    scheduled_tasks = generate_time_slots(shuffled_tasks)\n",
    "    \n",
    "    print(\"\\nYour randomized schedule for today:\")\n",
    "    for idx, task in enumerate(scheduled_tasks, start=1):\n",
    "        print(f\"{idx}. {task['task']} - {task['time_slot']}\")\n",
    "    \n",
    "    save_schedule_to_file(scheduled_tasks)\n",
    "\n",
    "# Run the scheduler\n",
    "if __name__ == \"__main__\":\n",
    "    main()\n"
   ]
  },
  {
   "cell_type": "code",
   "execution_count": null,
   "id": "fec4b9f5-704a-4c51-bf01-07d53f226240",
   "metadata": {},
   "outputs": [],
   "source": []
  },
  {
   "cell_type": "code",
   "execution_count": null,
   "id": "fcf9b553-ab3c-4061-a284-1de2c94495d1",
   "metadata": {},
   "outputs": [],
   "source": []
  },
  {
   "cell_type": "code",
   "execution_count": null,
   "id": "05e113aa-28d6-4616-ac73-ffa17e483bec",
   "metadata": {},
   "outputs": [],
   "source": []
  }
 ],
 "metadata": {
  "kernelspec": {
   "display_name": "anaconda-2024.02-py310",
   "language": "python",
   "name": "conda-env-anaconda-2024.02-py310-py"
  },
  "language_info": {
   "codemirror_mode": {
    "name": "ipython",
    "version": 3
   },
   "file_extension": ".py",
   "mimetype": "text/x-python",
   "name": "python",
   "nbconvert_exporter": "python",
   "pygments_lexer": "ipython3",
   "version": "3.10.14"
  }
 },
 "nbformat": 4,
 "nbformat_minor": 5
}
